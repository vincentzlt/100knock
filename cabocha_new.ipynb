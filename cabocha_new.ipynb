{
 "cells": [
  {
   "cell_type": "code",
   "execution_count": 48,
   "metadata": {
    "collapsed": true
   },
   "outputs": [],
   "source": [
    "from pprint import pprint\n",
    "import sys"
   ]
  },
  {
   "cell_type": "code",
   "execution_count": 57,
   "metadata": {
    "collapsed": true
   },
   "outputs": [],
   "source": [
    "def gen_sent_cabocha(f_name):\n",
    "    with open(f_name,\"r\",encoding=\"utf-8\") as f:\n",
    "        output=[]\n",
    "        for line in f:\n",
    "            if line.startswith(\"EOS\"):\n",
    "                \n",
    "                if len(output)>0:\n",
    "                    yield output\n",
    "                output=[]\n",
    "            else:\n",
    "                output.append(line)\n",
    "        yield output"
   ]
  },
  {
   "cell_type": "code",
   "execution_count": 58,
   "metadata": {},
   "outputs": [],
   "source": [
    "class Word():\n",
    "    def __init__(self, line):\n",
    "        self.surface, attr = line.split(\"\\t\")\n",
    "        self.pos, self.pos1, self.pos2, self.pos3, self.hy1, self.hy2, self.rt, *self.rd = attr.split(\n",
    "            \",\")\n",
    "    def __str__(self):\n",
    "        return self.surface"
   ]
  },
  {
   "cell_type": "code",
   "execution_count": 59,
   "metadata": {},
   "outputs": [],
   "source": [
    "class Phrase():\n",
    "    def __init__(self,lines):\n",
    "        self.words=[]\n",
    "        self.childs=[]\n",
    "        for line in lines:\n",
    "            if line.startswith(\"*\"):\n",
    "                _,self.index,father,head_func,self.dep_value=line.split()\n",
    "                self.father=int(father[:-1])\n",
    "                self.head_id,self.particle_id=(int(i) for i in head_func.split(\"/\"))\n",
    "            else:\n",
    "                self.words.append(Word(line))\n",
    "    @property\n",
    "    def __str__(self):\n",
    "        return \"\".join(w.surface for w in self.words)"
   ]
  },
  {
   "cell_type": "code",
   "execution_count": 62,
   "metadata": {},
   "outputs": [],
   "source": [
    "class Sentence():\n",
    "    def __init__(self, lines):\n",
    "        phrase_lines=[]\n",
    "        self.phrases=[]\n",
    "        for line in lines:\n",
    "            if line.startswith(\"*\") and len(phrase_lines)>0:\n",
    "                self.phrases.append(Phrase(phrase_lines))\n",
    "                phrase_lines=[line]\n",
    "            else:\n",
    "                phrase_lines.append(line)\n",
    "        self.phrases.append(Phrase(phrase_lines))\n",
    "        for ind, p in enumerate(self.phrases):\n",
    "            if p.father!=-1:\n",
    "                self.phrases[p.father-1].childs.append(ind)\n",
    "    def __str__(self):\n",
    "        return \"\".join(p.__str__ for p in self.phrases)"
   ]
  },
  {
   "cell_type": "code",
   "execution_count": 84,
   "metadata": {},
   "outputs": [
    {
     "name": "stdout",
     "output_type": "stream",
     "text": [
      "sentence 6:\n"
     ]
    },
    {
     "ename": "TypeError",
     "evalue": "'str' object is not callable",
     "output_type": "error",
     "traceback": [
      "\u001b[0;31m---------------------------------------------------------------------------\u001b[0m",
      "\u001b[0;31mTypeError\u001b[0m                                 Traceback (most recent call last)",
      "\u001b[0;32m<ipython-input-84-7f1ea1fcc4b1>\u001b[0m in \u001b[0;36m<module>\u001b[0;34m()\u001b[0m\n\u001b[1;32m      2\u001b[0m     \u001b[0;32mif\u001b[0m \u001b[0mind\u001b[0m\u001b[0;34m==\u001b[0m\u001b[0;36m5\u001b[0m\u001b[0;34m:\u001b[0m\u001b[0;34m\u001b[0m\u001b[0m\n\u001b[1;32m      3\u001b[0m         \u001b[0mprint\u001b[0m\u001b[0;34m(\u001b[0m\u001b[0;34m\"sentence {number}:\"\u001b[0m\u001b[0;34m.\u001b[0m\u001b[0mformat\u001b[0m\u001b[0;34m(\u001b[0m\u001b[0mnumber\u001b[0m\u001b[0;34m=\u001b[0m\u001b[0mind\u001b[0m\u001b[0;34m+\u001b[0m\u001b[0;36m1\u001b[0m\u001b[0;34m)\u001b[0m\u001b[0;34m,\u001b[0m\u001b[0mend\u001b[0m\u001b[0;34m=\u001b[0m\u001b[0;34m\"\\n\"\u001b[0m\u001b[0;34m)\u001b[0m\u001b[0;34m\u001b[0m\u001b[0m\n\u001b[0;32m----> 4\u001b[0;31m         \u001b[0mknock_42\u001b[0m\u001b[0;34m(\u001b[0m\u001b[0mSentence\u001b[0m\u001b[0;34m(\u001b[0m\u001b[0msent\u001b[0m\u001b[0;34m)\u001b[0m\u001b[0;34m)\u001b[0m\u001b[0;34m\u001b[0m\u001b[0m\n\u001b[0m\u001b[1;32m      5\u001b[0m         \u001b[0;31m#print(Sentence(sent))\u001b[0m\u001b[0;34m\u001b[0m\u001b[0;34m\u001b[0m\u001b[0m\n\u001b[1;32m      6\u001b[0m         \u001b[0;31m#pprint(sent)\u001b[0m\u001b[0;34m\u001b[0m\u001b[0;34m\u001b[0m\u001b[0m\n",
      "\u001b[0;32m<ipython-input-83-8af18c3effae>\u001b[0m in \u001b[0;36mknock_42\u001b[0;34m(Sent)\u001b[0m\n\u001b[1;32m      4\u001b[0m         \u001b[0mfather_id\u001b[0m\u001b[0;34m=\u001b[0m\u001b[0mp\u001b[0m\u001b[0;34m.\u001b[0m\u001b[0mfather\u001b[0m\u001b[0;34m\u001b[0m\u001b[0m\n\u001b[1;32m      5\u001b[0m         \u001b[0mphrase\u001b[0m\u001b[0;34m=\u001b[0m\u001b[0mp\u001b[0m\u001b[0;34m.\u001b[0m\u001b[0m__str__\u001b[0m\u001b[0;34m\u001b[0m\u001b[0m\n\u001b[0;32m----> 6\u001b[0;31m         \u001b[0mprint\u001b[0m\u001b[0;34m(\u001b[0m\u001b[0mSent\u001b[0m\u001b[0;34m.\u001b[0m\u001b[0mphrases\u001b[0m\u001b[0;34m[\u001b[0m\u001b[0mfather_id\u001b[0m\u001b[0;34m]\u001b[0m\u001b[0;34m,\u001b[0m\u001b[0mphrase\u001b[0m\u001b[0;34m)\u001b[0m\u001b[0;34m\u001b[0m\u001b[0m\n\u001b[0m",
      "\u001b[0;31mTypeError\u001b[0m: 'str' object is not callable"
     ]
    }
   ],
   "source": [
    "for ind, sent in enumerate(gen_sent_cabocha(\"./neko.txt.cabocha\")):\n",
    "    if ind==5:\n",
    "        print(\"sentence {number}:\".format(number=ind+1),end=\"\\n\")\n",
    "        knock_42(Sentence(sent))\n",
    "        #print(Sentence(sent))\n",
    "        #pprint(sent)"
   ]
  },
  {
   "cell_type": "code",
   "execution_count": 79,
   "metadata": {
    "collapsed": true
   },
   "outputs": [],
   "source": [
    "def knock_40(Sent):\n",
    "    # print morpheme list of a sentence with pos information\n",
    "    for p in Sent.phrases:\n",
    "        for w in p.words:\n",
    "            print(\"{surface}:\\tbase:\\t{base}\\tpos:\\t{pos}\\tpos1\\t{pos1}\".format(\n",
    "                surface=w.surface, base=w.rt, pos=w.pos, pos1=w.pos1))"
   ]
  },
  {
   "cell_type": "code",
   "execution_count": 81,
   "metadata": {
    "collapsed": true
   },
   "outputs": [],
   "source": [
    "def knock_41(Sent):\n",
    "    # print the father_id and phrase\n",
    "    for p in Sent.phrases:\n",
    "        father_id=p.father\n",
    "        phrase=p.__str__\n",
    "        print(\"father_id:\",str(father_id),\"phrase:\",phrase,sep=\"\\t\")"
   ]
  },
  {
   "cell_type": "code",
   "execution_count": 83,
   "metadata": {
    "collapsed": true
   },
   "outputs": [],
   "source": [
    "def knock_42(Sent):\n",
    "    # print phrase and its father phrase\n",
    "    for p in Sent.phrases:\n",
    "        father_id=p.father\n",
    "        phrase=p.__str__\n",
    "        print(Sent.phrases[father_id],phrase)"
   ]
  },
  {
   "cell_type": "code",
   "execution_count": null,
   "metadata": {
    "collapsed": true
   },
   "outputs": [],
   "source": []
  }
 ],
 "metadata": {
  "kernelspec": {
   "display_name": "Python 3",
   "language": "python",
   "name": "python3"
  },
  "language_info": {
   "codemirror_mode": {
    "name": "ipython",
    "version": 3
   },
   "file_extension": ".py",
   "mimetype": "text/x-python",
   "name": "python",
   "nbconvert_exporter": "python",
   "pygments_lexer": "ipython3",
   "version": "3.5.0"
  }
 },
 "nbformat": 4,
 "nbformat_minor": 2
}
