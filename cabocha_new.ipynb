{
 "cells": [
  {
   "cell_type": "code",
   "execution_count": 1,
   "metadata": {},
   "outputs": [],
   "source": [
    "from pprint import pprint\n",
    "import pdir\n",
    "import sys"
   ]
  },
  {
   "cell_type": "code",
   "execution_count": 2,
   "metadata": {
    "collapsed": true
   },
   "outputs": [],
   "source": [
    "def gen_sent_cabocha(f_name):\n",
    "    with open(f_name, \"r\", encoding=\"utf-8\") as f:\n",
    "        output = []\n",
    "        for line in f:\n",
    "            if line.startswith(\"EOS\"):\n",
    "\n",
    "                if len(output) > 0:\n",
    "                    yield output\n",
    "                output = []\n",
    "            else:\n",
    "                output.append(line)\n",
    "        yield output"
   ]
  },
  {
   "cell_type": "code",
   "execution_count": 3,
   "metadata": {
    "collapsed": true
   },
   "outputs": [],
   "source": [
    "class Word():\n",
    "    def __init__(self, line):\n",
    "        self.surface, attr = line.split(\"\\t\")\n",
    "        self.pos, self.pos1, self.pos2, self.pos3, self.hy1, self.hy2, self.rt, *self.rd = attr.split(\n",
    "            \",\")\n",
    "    def __repr__(self):\n",
    "        return str(self.__dict__)\n",
    "    def __str__(self):\n",
    "        return self.surface"
   ]
  },
  {
   "cell_type": "code",
   "execution_count": 66,
   "metadata": {
    "collapsed": true
   },
   "outputs": [],
   "source": [
    "class Phrase():\n",
    "    def __init__(self, lines):\n",
    "        self.words = []\n",
    "        self.childs = []\n",
    "        for line in lines:\n",
    "            if line.startswith(\"*\"):\n",
    "                _, self.index, father, head_func, self.dep_value = line.split()\n",
    "                self.father = int(father[:-1])\n",
    "                self.head_id, self.particle_id = (\n",
    "                    int(i) for i in head_func.split(\"/\"))\n",
    "            else:\n",
    "                self.words.append(Word(line))\n",
    "    def __repr__(self):\n",
    "        return str(self.__dict__)\n",
    "\n",
    "    def __str__(self):\n",
    "        output=\"\".join(w.surface for w in self.words)\n",
    "        return output"
   ]
  },
  {
   "cell_type": "code",
   "execution_count": 67,
   "metadata": {
    "collapsed": true
   },
   "outputs": [],
   "source": [
    "class Sentence():\n",
    "    def __init__(self, lines):\n",
    "        phrase_lines = []\n",
    "        self.phrases = []\n",
    "        self.temp = 1\n",
    "\n",
    "        for line in lines:\n",
    "            if line.startswith(\"*\"):\n",
    "                if len(phrase_lines) == 0:\n",
    "                    phrase_lines.append(line)\n",
    "                else:\n",
    "                    #pprint(phrase_lines)\n",
    "                    self.phrases.append(Phrase(phrase_lines))\n",
    "                    phrase_lines = []\n",
    "                    phrase_lines.append(line)\n",
    "            else:\n",
    "                phrase_lines.append(line)\n",
    "        #pprint(phrase_lines)\n",
    "        self.phrases.append(Phrase(phrase_lines))\n",
    "        for ind, p in enumerate(self.phrases):\n",
    "            if p.father != -1:\n",
    "                self.phrases[p.father].childs.append(ind)\n",
    "\n",
    "    def __repr__(self):\n",
    "        return str(self.__dict__)\n",
    "\n",
    "\n",
    "    def __str__(self):\n",
    "        return \"\".join(p.__str__ for p in self.phrases)"
   ]
  },
  {
   "cell_type": "code",
   "execution_count": null,
   "metadata": {
    "collapsed": true
   },
   "outputs": [],
   "source": [
    "def knock_40(Sent):\n",
    "    # print morpheme list of a sentence with pos information\n",
    "    for p in Sent.phrases:\n",
    "        for w in p.words:\n",
    "            print(\"{surface}:\\tbase:\\t{base}\\tpos:\\t{pos}\\tpos1\\t{pos1}\".\n",
    "                  format(surface=w.surface, base=w.rt, pos=w.pos, pos1=w.pos1))"
   ]
  },
  {
   "cell_type": "code",
   "execution_count": null,
   "metadata": {
    "collapsed": true
   },
   "outputs": [],
   "source": [
    "def knock_41(Sent):\n",
    "    # print the father_id and phrase\n",
    "    for p in Sent.phrases:\n",
    "        father_id = p.father\n",
    "        phrase = p.__str__\n",
    "        print(\"father_id:\", str(father_id), \"phrase:\", phrase, sep=\"\\t\")"
   ]
  },
  {
   "cell_type": "code",
   "execution_count": 52,
   "metadata": {},
   "outputs": [],
   "source": [
    "def knock_42(Sent):\n",
    "    # print phrase and its father phrase\n",
    "    print(Sent.phrases)\n",
    "    for p in Sent.phrases:\n",
    "        print(p.father)\n",
    "        if p.father!=-1:\n",
    "            print(p)\n",
    "            print(Sent.phrases[p.father])"
   ]
  },
  {
   "cell_type": "code",
   "execution_count": 68,
   "metadata": {},
   "outputs": [
    {
     "name": "stdout",
     "output_type": "stream",
     "text": [
      "sentence 7:\n"
     ]
    }
   ],
   "source": [
    "for ind, sent in enumerate(gen_sent_cabocha(\"./neko.txt.cabocha\")):\n",
    "    if ind == 6:\n",
    "        print(\"sentence {number}:\".format(number=ind + 1), end=\"\\n\")\n",
    "        #knock_42(Sentence(sent))\n",
    "        tt=Sentence(sent)\n",
    "        #print(Sentence(sent))\n",
    "        #pprint(sent)"
   ]
  },
  {
   "cell_type": "code",
   "execution_count": 69,
   "metadata": {},
   "outputs": [
    {
     "name": "stdout",
     "output_type": "stream",
     "text": [
      "しかも\n"
     ]
    }
   ],
   "source": [
    "print(tt.phrases[0])"
   ]
  },
  {
   "cell_type": "code",
   "execution_count": 65,
   "metadata": {
    "scrolled": false
   },
   "outputs": [
    {
     "name": "stdout",
     "output_type": "stream",
     "text": [
      "しかも\n"
     ]
    }
   ],
   "source": [
    "print(tt.phrases[0].words[0])"
   ]
  },
  {
   "cell_type": "code",
   "execution_count": null,
   "metadata": {
    "collapsed": true
   },
   "outputs": [],
   "source": [
    "class Temp3():\n",
    "    def __init__(self,a):\n",
    "        self.a=(a)\n",
    "    def __repr__(self):\n",
    "        return str(self.__dict__)\n",
    "    def __str__(self):\n",
    "        return str(self.a)"
   ]
  },
  {
   "cell_type": "code",
   "execution_count": null,
   "metadata": {
    "collapsed": true
   },
   "outputs": [],
   "source": [
    "class Temp2():\n",
    "    def __init__(self,a):\n",
    "        self.a=(a)\n",
    "    def __repr__(self):\n",
    "        return str(self.__dict__)\n",
    "    def __str__(self):\n",
    "        return str(self.a)"
   ]
  },
  {
   "cell_type": "code",
   "execution_count": null,
   "metadata": {
    "collapsed": true
   },
   "outputs": [],
   "source": [
    "class Temp1():\n",
    "    def __init__(self,a):\n",
    "        self.a=Temp3(a)\n",
    "    def __repr__(self):\n",
    "        return str(self.__dict__)\n",
    "    def __str__(self):\n",
    "        return str(self.a)"
   ]
  },
  {
   "cell_type": "code",
   "execution_count": null,
   "metadata": {},
   "outputs": [],
   "source": [
    "class Temp():\n",
    "    def __init__(self,a,b):\n",
    "        self.a=Temp1(a)\n",
    "        self.b=Temp2(b)\n",
    "    def __repr__(self):\n",
    "        return str(self.__dict__)\n",
    "    def __str__(self):\n",
    "        return str(self.a+self.b)"
   ]
  },
  {
   "cell_type": "code",
   "execution_count": null,
   "metadata": {},
   "outputs": [],
   "source": [
    "t=Temp(1,2)\n",
    "t"
   ]
  },
  {
   "cell_type": "code",
   "execution_count": null,
   "metadata": {
    "collapsed": true
   },
   "outputs": [],
   "source": []
  }
 ],
 "metadata": {
  "kernelspec": {
   "display_name": "Python 3",
   "language": "python",
   "name": "python3"
  },
  "language_info": {
   "codemirror_mode": {
    "name": "ipython",
    "version": 3
   },
   "file_extension": ".py",
   "mimetype": "text/x-python",
   "name": "python",
   "nbconvert_exporter": "python",
   "pygments_lexer": "ipython3",
   "version": "3.5.0"
  }
 },
 "nbformat": 4,
 "nbformat_minor": 2
}
