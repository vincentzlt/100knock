{
 "cells": [
  {
   "cell_type": "code",
   "execution_count": 1,
   "metadata": {
    "collapsed": true
   },
   "outputs": [],
   "source": [
    "import sys\n"
   ]
  },
  {
   "cell_type": "code",
   "execution_count": null,
   "metadata": {
    "collapsed": true
   },
   "outputs": [],
   "source": [
    "class cabocha_tree(object):\n",
    "    r\"\"\"parse the cabocha_tree\n",
    "    input:\n",
    "        input_str:    the cabocha f1 result block. starting with * and end with EOS\n",
    "    output:\n",
    "        class of pased tree structure with pos taggings\n",
    "        \"\"\"\n",
    "    def __init__(self, input_str):\n",
    "        self.tree_d=dict()\n",
    "        \n",
    "        for line in input_str:\n",
    "            if line.startwith(\"*\"):\n",
    "                _,constituent_num,father_num,head_func_num,dep_score=line.split(\" \")\n",
    "                self.tree_d[constituent_num]={\"father\":father_num,\n",
    "                                             \"head/func\":head_func_num,\n",
    "                                             \"dep_score\":dep_score}\n",
    "            else:\n",
    "                surface_form,att=line.split(\"\\t\")\n",
    "                pos, pos1,pos2,pos3,hy1,hy2,rt,rd1,rd2=att.split(\",\")\n",
    "                \n",
    "                \n",
    "                \n",
    "                \n",
    "            \n",
    "    \n",
    "    def attribute1(self):\n",
    "        return self.attr1\n",
    "bp_obj = BPSomeClass(\"a\", 2.7182)\n",
    "bp_obj.attribute1()"
   ]
  },
  {
   "cell_type": "code",
   "execution_count": 6,
   "metadata": {
    "collapsed": false
   },
   "outputs": [
    {
     "data": {
      "text/plain": [
       "1"
      ]
     },
     "execution_count": 6,
     "metadata": {},
     "output_type": "execute_result"
    },
    {
     "data": {
      "text/plain": [
       "2"
      ]
     },
     "execution_count": 6,
     "metadata": {},
     "output_type": "execute_result"
    }
   ],
   "source": [
    "a, b = [1,2]\n",
    "a\n",
    "b"
   ]
  },
  {
   "cell_type": "code",
   "execution_count": 2,
   "metadata": {
    "collapsed": true
   },
   "outputs": [],
   "source": [
    "test_str=\"\"\"\n",
    "* 0 5D 0/1 -1.514009\n",
    "吾輩\t名詞,代名詞,一般,*,*,*,吾輩,ワガハイ,ワガハイ\n",
    "は\t助詞,係助詞,*,*,*,*,は,ハ,ワ\n",
    "* 1 2D 0/1 1.311423\n",
    "ここ\t名詞,代名詞,一般,*,*,*,ここ,ココ,ココ\n",
    "で\t助詞,格助詞,一般,*,*,*,で,デ,デ\n",
    "* 2 3D 0/1 0.123057\n",
    "始め\t動詞,自立,*,*,一段,連用形,始める,ハジメ,ハジメ\n",
    "て\t助詞,接続助詞,*,*,*,*,て,テ,テ\n",
    "* 3 4D 0/1 1.440044\n",
    "人間\t名詞,一般,*,*,*,*,人間,ニンゲン,ニンゲン\n",
    "という\t助詞,格助詞,連語,*,*,*,という,トイウ,トユウ\n",
    "* 4 5D 0/1 -1.514009\n",
    "もの\t名詞,非自立,一般,*,*,*,もの,モノ,モノ\n",
    "を\t助詞,格助詞,一般,*,*,*,を,ヲ,ヲ\n",
    "* 5 -1D 0/1 0.000000\n",
    "見\t動詞,自立,*,*,一段,連用形,見る,ミ,ミ\n",
    "た\t助動詞,*,*,*,特殊・タ,基本形,た,タ,タ\n",
    "。\t記号,句点,*,*,*,*,。,。,。\n",
    "EOS\n",
    "\"\"\""
   ]
  },
  {
   "cell_type": "code",
   "execution_count": null,
   "metadata": {
    "collapsed": true
   },
   "outputs": [],
   "source": []
  }
 ],
 "metadata": {
  "kernelspec": {
   "display_name": "Python 3",
   "language": "python",
   "name": "python3"
  },
  "language_info": {
   "codemirror_mode": {
    "name": "ipython",
    "version": 3
   },
   "file_extension": ".py",
   "mimetype": "text/x-python",
   "name": "python",
   "nbconvert_exporter": "python",
   "pygments_lexer": "ipython3",
   "version": "3.6.0"
  }
 },
 "nbformat": 4,
 "nbformat_minor": 2
}
