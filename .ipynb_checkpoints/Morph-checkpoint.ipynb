{
 "cells": [
  {
   "cell_type": "code",
   "execution_count": 69,
   "metadata": {
    "collapsed": true
   },
   "outputs": [],
   "source": [
    "import sys, pprint"
   ]
  },
  {
   "cell_type": "code",
   "execution_count": 144,
   "metadata": {},
   "outputs": [],
   "source": [
    "class Morph():\n",
    "    def __init__(self, lines):\n",
    "        self.phrases = {}\n",
    "        _phrase_id=-1\n",
    "        for line in lines:\n",
    "            #print(line)\n",
    "            if line.startswith(\"*\"):\n",
    "                #print(line)\n",
    "                word_id=0\n",
    "                _, id_phrase, id_depend, head_func, dep_score = line.split()\n",
    "                head_w_id, num_w = head_func.split(\"/\")\n",
    "                \n",
    "                id_phrase=int(id_phrase)\n",
    "                id_depend=int(id_depend[:-1])\n",
    "                head_w_id=int(head_w_id)\n",
    "                num_w=int(num_w)\n",
    "                dep_score=float(dep_score)\n",
    "                \n",
    "                self.phrases[id_phrase]={}\n",
    "                self.phrases[id_phrase][\"dst\"] = id_depend\n",
    "                self.phrases[id_phrase][\"head\"] = head_w_id\n",
    "                self.phrases[id_phrase][\"dep_score\"] = dep_score\n",
    "                self.phrases[id_phrase][\"src\"]=[]\n",
    "                self.phrases[id_phrase][\"words\"]={}\n",
    "                \n",
    "                for i in range(num_w):\n",
    "                    if i != head_w_id:\n",
    "                        self.phrases[id_phrase][(\"func\", i)] = {}\n",
    "                _phrase_id=id_phrase\n",
    "            elif line.startswith(\"EOS\"):\n",
    "                pass\n",
    "            else:\n",
    "                surface,att=line.split(\"\\t\")\n",
    "                atts=[\"pos\",\"pos1\",\"pos2\",\"pos3\",\"hy1\",\"hy2\",\"root\",\"reading\",\"pron\"]\n",
    "                self.phrases[_phrase_id][\"words\"][(word_id,surface)]={}\n",
    "                for ind, att_ in enumerate(atts):\n",
    "                    if att[ind]:\n",
    "                        self.phrases[_phrase_id][\"words\"][(word_id,surface)][att_]=att[ind]\n",
    "                    else:\n",
    "                        self.phrases[_phrase_id][\"words\"][(word_id,surface)][att_]=None\n",
    "                \n",
    "                word_id+=1\n",
    "        for ph in self.phrases:\n",
    "            dst=self.phrases[ph][\"dst\"]\n",
    "            if dst!=-1:\n",
    "                self.phrases[dst][\"src\"].append(ph)\n",
    "\n",
    "        #pprint.pprint(self.phrases)"
   ]
  },
  {
   "cell_type": "code",
   "execution_count": 145,
   "metadata": {},
   "outputs": [],
   "source": [
    "def gen_lines(f_name):\n",
    "    lines=[]\n",
    "    for line in open(f_name,\"r\",encoding=\"UTF-8\"):\n",
    "        line=line.replace(\"\\n\",\"\")\n",
    "        if line.startswith(\"*\"):\n",
    "            lines.append(line)\n",
    "        elif line.startswith(\"EOS\"):\n",
    "            lines.append(line)\n",
    "            lines_=lines\n",
    "            lines=[]\n",
    "            if lines_!=[\"EOS\"]:\n",
    "                yield lines_\n",
    "        else:\n",
    "            lines.append(line)"
   ]
  },
  {
   "cell_type": "code",
   "execution_count": 146,
   "metadata": {},
   "outputs": [],
   "source": [
    "if __name__==\"__main__\":\n",
    "    f_name=\"./neko.txt.cabocha\"\n",
    "    sents=[]\n",
    "    for lines in gen_lines(f_name):\n",
    "        sents.append(Morph(lines))"
   ]
  },
  {
   "cell_type": "code",
   "execution_count": 147,
   "metadata": {},
   "outputs": [
    {
     "name": "stdout",
     "output_type": "stream",
     "text": [
      "{0: {'dep_score': -1.911675,\n",
      "     'dst': 2,\n",
      "     'head': 0,\n",
      "     'src': [],\n",
      "     'words': {(0, '名前'): {'hy1': '般',\n",
      "                           'hy2': ',',\n",
      "                           'pos': '名',\n",
      "                           'pos1': '詞',\n",
      "                           'pos2': ',',\n",
      "                           'pos3': '一',\n",
      "                           'pron': '*',\n",
      "                           'reading': ',',\n",
      "                           'root': '*'},\n",
      "               (1, 'は'): {'hy1': '助',\n",
      "                          'hy2': '詞',\n",
      "                          'pos': '助',\n",
      "                          'pos1': '詞',\n",
      "                          'pos2': ',',\n",
      "                          'pos3': '係',\n",
      "                          'pron': ',',\n",
      "                          'reading': '*',\n",
      "                          'root': ','}}},\n",
      " 1: {'dep_score': -1.911675,\n",
      "     'dst': 2,\n",
      "     'head': 0,\n",
      "     'src': [],\n",
      "     'words': {(0, 'まだ'): {'hy1': '詞',\n",
      "                           'hy2': '類',\n",
      "                           'pos': '副',\n",
      "                           'pos1': '詞',\n",
      "                           'pos2': ',',\n",
      "                           'pos3': '助',\n",
      "                           'pron': ',',\n",
      "                           'reading': '続',\n",
      "                           'root': '接'}}},\n",
      " 2: {'dep_score': 0.0,\n",
      "     'dst': -1,\n",
      "     'head': 0,\n",
      "     'src': [0, 1],\n",
      "     'words': {(0, '無い'): {'hy1': '自',\n",
      "                           'hy2': '立',\n",
      "                           'pos': '形',\n",
      "                           'pos1': '容',\n",
      "                           'pos2': '詞',\n",
      "                           'pos3': ',',\n",
      "                           'pron': ',',\n",
      "                           'reading': '*',\n",
      "                           'root': ','},\n",
      "               (1, '。'): {'hy1': '点',\n",
      "                          'hy2': ',',\n",
      "                          'pos': '記',\n",
      "                          'pos1': '号',\n",
      "                          'pos2': ',',\n",
      "                          'pos3': '句',\n",
      "                          'pron': '*',\n",
      "                          'reading': ',',\n",
      "                          'root': '*'}}}}\n"
     ]
    }
   ],
   "source": [
    "pprint.pprint(sents[2].phrases)"
   ]
  }
 ],
 "metadata": {
  "kernelspec": {
   "display_name": "Python 3",
   "language": "python",
   "name": "python3"
  },
  "language_info": {
   "codemirror_mode": {
    "name": "ipython",
    "version": 3
   },
   "file_extension": ".py",
   "mimetype": "text/x-python",
   "name": "python",
   "nbconvert_exporter": "python",
   "pygments_lexer": "ipython3",
   "version": "3.5.0"
  }
 },
 "nbformat": 4,
 "nbformat_minor": 2
}
