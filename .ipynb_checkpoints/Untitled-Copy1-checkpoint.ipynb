{
 "cells": [
  {
   "cell_type": "code",
   "execution_count": 49,
   "metadata": {
    "collapsed": true
   },
   "outputs": [],
   "source": [
    "#!/usr/bin/python\n",
    "# -*- coding: UTF-8 -*- \n",
    "import sys, pprint, re,pickle\n",
    "from collections import defaultdict,namedtuple"
   ]
  },
  {
   "cell_type": "code",
   "execution_count": 70,
   "metadata": {},
   "outputs": [],
   "source": [
    "word_pos_list = []\n",
    "\n",
    "pos_nt = namedtuple(\"pos_info\", [\n",
    "    \"word\", \"品詞\", \"品詞細分類1\", \"品詞細分類2\", \"品詞細分類3\", \"活用型\", \"活用形\", \"原形\", \"読み\", \"発音\"\n",
    "])\n",
    "\n",
    "\n",
    "for line in open(\"./neko.txt.mecab\", \"r\", encoding=\"UTF-8\"):\n",
    "    if not line.startswith(\"EOS\"):\n",
    "        word_, pos_ = line.replace(\"\\n\", \"\").split(\"\\t\")\n",
    "        pos_=pos_.split(\",\")\n",
    "        len_pos=len(pos_)\n",
    "        if len_pos==9:\n",
    "            word_pos_list.append(pos_nt(word_, *pos_))\n",
    "        else:\n",
    "            ls_=[]\n",
    "            for i in range(9-len_pos):\n",
    "                ls_.append(None)\n",
    "            word_pos_list.append(pos_nt(word_, *pos_,*ls_))"
   ]
  },
  {
   "cell_type": "code",
   "execution_count": 76,
   "metadata": {
    "scrolled": false
   },
   "outputs": [
    {
     "ename": "PicklingError",
     "evalue": "Can't pickle <class '__main__.pos_info'>: attribute lookup pos_info on __main__ failed",
     "output_type": "error",
     "traceback": [
      "\u001b[0;31m---------------------------------------------------------------------------\u001b[0m",
      "\u001b[0;31mPicklingError\u001b[0m                             Traceback (most recent call last)",
      "\u001b[0;32m<ipython-input-76-e295e058a2ff>\u001b[0m in \u001b[0;36m<module>\u001b[0;34m()\u001b[0m\n\u001b[0;32m----> 1\u001b[0;31m \u001b[0mpickle\u001b[0m\u001b[0;34m.\u001b[0m\u001b[0mdump\u001b[0m\u001b[0;34m(\u001b[0m\u001b[0mword_pos_list\u001b[0m\u001b[0;34m,\u001b[0m\u001b[0mopen\u001b[0m\u001b[0;34m(\u001b[0m\u001b[0;34m\"word_map.mecab\"\u001b[0m\u001b[0;34m,\u001b[0m\u001b[0;34m\"w\"\u001b[0m\u001b[0;34m)\u001b[0m\u001b[0;34m,\u001b[0m\u001b[0mprotocol\u001b[0m\u001b[0;34m=\u001b[0m\u001b[0mpickle\u001b[0m\u001b[0;34m.\u001b[0m\u001b[0mHIGHEST_PROTOCOL\u001b[0m\u001b[0;34m)\u001b[0m\u001b[0;34m\u001b[0m\u001b[0m\n\u001b[0m",
      "\u001b[0;31mPicklingError\u001b[0m: Can't pickle <class '__main__.pos_info'>: attribute lookup pos_info on __main__ failed"
     ]
    }
   ],
   "source": [
    "pickle.dump(word_pos_list,open(\"word_map.mecab\",\"w\"),protocol=pickle.HIGHEST_PROTOCOL)"
   ]
  },
  {
   "cell_type": "code",
   "execution_count": null,
   "metadata": {
    "collapsed": true
   },
   "outputs": [],
   "source": []
  }
 ],
 "metadata": {
  "kernelspec": {
   "display_name": "Python 3",
   "language": "python",
   "name": "python3"
  },
  "language_info": {
   "codemirror_mode": {
    "name": "ipython",
    "version": 3
   },
   "file_extension": ".py",
   "mimetype": "text/x-python",
   "name": "python",
   "nbconvert_exporter": "python",
   "pygments_lexer": "ipython3",
   "version": "3.5.0"
  }
 },
 "nbformat": 4,
 "nbformat_minor": 2
}
