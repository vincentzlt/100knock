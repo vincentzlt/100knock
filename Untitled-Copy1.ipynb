{
 "cells": [
  {
   "cell_type": "code",
   "execution_count": 1,
   "metadata": {
    "collapsed": true
   },
   "outputs": [],
   "source": [
    "#!/usr/bin/python\n",
    "# -*- coding: UTF-8 -*- \n",
    "import sys, pprint, re,pickle\n",
    "from collections import defaultdict"
   ]
  },
  {
   "cell_type": "code",
   "execution_count": 10,
   "metadata": {},
   "outputs": [],
   "source": [
    "mecob_list = []\n",
    "\n",
    "for line in open(\"./neko.txt.mecab\", \"r\", encoding=\"UTF-8\"):\n",
    "    word_pos_dict = {}\n",
    "    pos_ls = iter([\n",
    "        \"word\", \"品詞\", \"品詞細分類1\", \"品詞細分類2\", \"品詞細分類3\", \"活用型\", \"活用形\", \"原形\", \"読み\",\n",
    "        \"発音\"\n",
    "    ])\n",
    "    if not line.startswith(\"EOS\"):\n",
    "        word_, pos_ = line.replace(\"\\n\", \"\").split(\"\\t\")\n",
    "        pos_ = pos_.split(\",\")\n",
    "        len_pos = len(pos_)\n",
    "\n",
    "        word_pos_dict[next(pos_ls)] = word_\n",
    "\n",
    "        for i in pos_:\n",
    "            word_pos_dict[next(pos_ls)] = i\n",
    "        mecob_list.append(word_pos_dict)"
   ]
  },
  {
   "cell_type": "code",
   "execution_count": 16,
   "metadata": {
    "scrolled": false
   },
   "outputs": [],
   "source": [
    "pickle.dump(mecob_list,open(\"word_mapping.mecab\",\"wb\"))"
   ]
  },
  {
   "cell_type": "code",
   "execution_count": null,
   "metadata": {
    "collapsed": true
   },
   "outputs": [],
   "source": []
  }
 ],
 "metadata": {
  "kernelspec": {
   "display_name": "Python 3",
   "language": "python",
   "name": "python3"
  },
  "language_info": {
   "codemirror_mode": {
    "name": "ipython",
    "version": 3
   },
   "file_extension": ".py",
   "mimetype": "text/x-python",
   "name": "python",
   "nbconvert_exporter": "python",
   "pygments_lexer": "ipython3",
   "version": "3.5.0"
  }
 },
 "nbformat": 4,
 "nbformat_minor": 2
}
