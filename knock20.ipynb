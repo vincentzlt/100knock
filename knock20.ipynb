{
 "cells": [
  {
   "cell_type": "code",
   "execution_count": 108,
   "metadata": {
    "collapsed": true
   },
   "outputs": [],
   "source": [
    "#!/usr/bin/python\n",
    "# -*- coding: UTF-8 -*- \n",
    "import sys, pprint, re"
   ]
  },
  {
   "cell_type": "code",
   "execution_count": 109,
   "metadata": {},
   "outputs": [],
   "source": [
    "sec=re.compile(\"\\{\\{基礎情報 国.+?\\n\\}\\}\\n\",flags=re.DOTALL)\n",
    "key_value=re.compile(\"\\n\\|(.+?) = (.+?)\\n\\|\",flags=re.DOTALL)\n",
    "inner_link=re.compile(\"\\[\\[(.+?)\\]\\]\")"
   ]
  },
  {
   "cell_type": "code",
   "execution_count": 110,
   "metadata": {},
   "outputs": [],
   "source": [
    "with open(\"./UK.txt\",\"r\") as f:\n",
    "    lines=f.read()"
   ]
  },
  {
   "cell_type": "code",
   "execution_count": 111,
   "metadata": {
    "scrolled": true
   },
   "outputs": [
    {
     "name": "stdout",
     "output_type": "stream",
     "text": [
      "{'GDP値': '2兆3162億<ref name=\"imf-statistics-gdp\" />',\n",
      " 'GDP値元': '1兆5478億<ref '\n",
      "          'name=\"imf-statistics-gdp\">[http://www.imf.org/external/pubs/ft/weo/2012/02/weodata/weorept.aspx?pr.x=70&pr.y=13&sy=2010&ey=2012&scsm=1&ssd=1&sort=country&ds=.&br=1&c=112&s=NGDP%2CNGDPD%2CPPPGDP%2CPPPPC&grp=0&a= '\n",
      "          'IMF>Data and Statistics>World Economic Outlook Databases>By '\n",
      "          'Countrise>United Kingdom]</ref>',\n",
      " 'GDP統計年': '2012',\n",
      " 'GDP順位MER': '5',\n",
      " 'ccTLD': '[[.uk]] / [[.gb]]<ref>使用は.ukに比べ圧倒的少数。</ref>',\n",
      " '人口大きさ': '1 E7',\n",
      " '人口密度値': '246',\n",
      " '人口統計年': '2011',\n",
      " '位置画像': 'Location_UK_EU_Europe_001.svg',\n",
      " '元首等肩書': '[[イギリスの君主|女王]]',\n",
      " '公式国名': '{{lang|en|United Kingdom of Great Britain and Northern '\n",
      "         'Ireland}}<ref>英語以外での正式国名:<br/>\\n'\n",
      "         '*{{lang|gd|An Rìoghachd Aonaichte na Breatainn Mhòr agus Eirinn mu '\n",
      "         'Thuath}}（[[スコットランド・ゲール語]]）<br/>\\n'\n",
      "         '*{{lang|cy|Teyrnas Gyfunol Prydain Fawr a Gogledd '\n",
      "         'Iwerddon}}（[[ウェールズ語]]）<br/>\\n'\n",
      "         '*{{lang|ga|Ríocht Aontaithe na Breataine Móire agus Tuaisceart na '\n",
      "         'hÉireann}}（[[アイルランド語]]）<br/>\\n'\n",
      "         '*{{lang|kw|An Rywvaneth Unys a Vreten Veur hag Iwerdhon '\n",
      "         'Glédh}}（[[コーンウォール語]]）<br/>\\n'\n",
      "         '*{{lang|sco|Unitit Kinrick o Great Breetain an Northren '\n",
      "         'Ireland}}（[[スコットランド語]]）<br/>\\n'\n",
      "         '**{{lang|sco|Claught Kängrick o Docht Brätain an Norlin '\n",
      "         'Airlann}}、{{lang|sco|Unitet Kängdom o Great Brittain an Norlin '\n",
      "         'Airlann}}（アルスター・スコットランド語）</ref>',\n",
      " '国章画像': '[[ファイル:Royal Coat of Arms of the United Kingdom.svg|85px|イギリスの国章]]',\n",
      " '夏時間': '+1',\n",
      " '建国形態': '建国',\n",
      " '標語': '{{lang|fr|Dieu et mon droit}}<br/>（[[フランス語]]:神と私の権利）',\n",
      " '略名': 'イギリス',\n",
      " '確立年月日1': '[[927年]]／[[843年]]',\n",
      " '確立年月日2': '[[1707年]]',\n",
      " '確立年月日3': '[[1801年]]',\n",
      " '確立年月日4': '[[1927年]]',\n",
      " '通貨コード': 'GBP',\n",
      " '面積値': '244,820',\n",
      " '面積順位': '76',\n",
      " '首相等肩書': '[[イギリスの首相|首相]]',\n",
      " '首都': '[[ロンドン]]'}\n"
     ]
    }
   ],
   "source": [
    "match=sec.findall(lines)\n",
    "dict_items=key_value.findall(match[0])\n",
    "dict={i:j for i, j in dict_items}\n",
    "pprint.pprint(dict)"
   ]
  },
  {
   "cell_type": "code",
   "execution_count": 112,
   "metadata": {},
   "outputs": [
    {
     "name": "stdout",
     "output_type": "stream",
     "text": [
      "{'公式国名': '{{lang|en|United Kingdom of Great Britain and Northern Ireland}}<ref>英語以外での正式国名:<br/>\\n*{{lang|gd|An Rìoghachd Aonaichte na Breatainn Mhòr agus Eirinn mu Thuath}}（[[スコットランド・ゲール語]]）<br/>\\n*{{lang|cy|Teyrnas Gyfunol Prydain Fawr a Gogledd Iwerddon}}（[[ウェールズ語]]）<br/>\\n*{{lang|ga|Ríocht Aontaithe na Breataine Móire agus Tuaisceart na hÉireann}}（[[アイルランド語]]）<br/>\\n*{{lang|kw|An Rywvaneth Unys a Vreten Veur hag Iwerdhon Glédh}}（[[コーンウォール語]]）<br/>\\n*{{lang|sco|Unitit Kinrick o Great Breetain an Northren Ireland}}（[[スコットランド語]]）<br/>\\n**{{lang|sco|Claught Kängrick o Docht Brätain an Norlin Airlann}}、{{lang|sco|Unitet Kängdom o Great Brittain an Norlin Airlann}}（アルスター・スコットランド語）</ref>', '標語': '{{lang|fr|Dieu et mon droit}}<br/>（[[フランス語]]:神と私の権利）', '確立年月日3': '[[1801年]]', '首相等肩書': '[[イギリスの首相|首相]]', '通貨コード': 'GBP', '人口大きさ': '1 E7', '確立年月日1': '[[927年]]／[[843年]]', '位置画像': 'Location_UK_EU_Europe_001.svg', '確立年月日2': '[[1707年]]', '元首等肩書': '[[イギリスの君主|女王]]', 'ccTLD': '[[.uk]] / [[.gb]]<ref>使用は.ukに比べ圧倒的少数。</ref>', 'GDP値': '2兆3162億<ref name=\"imf-statistics-gdp\" />', '面積値': '244,820', 'GDP値元': '1兆5478億<ref name=\"imf-statistics-gdp\">[http://www.imf.org/external/pubs/ft/weo/2012/02/weodata/weorept.aspx?pr.x=70&pr.y=13&sy=2010&ey=2012&scsm=1&ssd=1&sort=country&ds=.&br=1&c=112&s=NGDP%2CNGDPD%2CPPPGDP%2CPPPPC&grp=0&a= IMF>Data and Statistics>World Economic Outlook Databases>By Countrise>United Kingdom]</ref>', '略名': 'イギリス', '夏時間': '+1', '国章画像': '[[ファイル:Royal Coat of Arms of the United Kingdom.svg|85px|イギリスの国章]]', '首都': '[[ロンドン]]', '建国形態': '建国', '人口統計年': '2011', '人口密度値': '246', '面積順位': '76', '確立年月日4': '[[1927年]]', 'GDP統計年': '2012', 'GDP順位MER': '5'}\n"
     ]
    }
   ],
   "source": [
    "for i in dict:\n",
    "    dict[i]=re.sub(\"\\'\\'|\\'\\'\\'|\\'\\'\\'\\'\",\"\",dict[i])\n",
    "print(dict)"
   ]
  },
  {
   "cell_type": "code",
   "execution_count": 114,
   "metadata": {
    "scrolled": true
   },
   "outputs": [
    {
     "name": "stdout",
     "output_type": "stream",
     "text": [
      "{'GDP値': '2兆3162億<ref name=\"imf-statistics-gdp\" />',\n",
      " 'GDP値元': '1兆5478億<ref '\n",
      "          'name=\"imf-statistics-gdp\">[http://www.imf.org/external/pubs/ft/weo/2012/02/weodata/weorept.aspx?pr.x=70&pr.y=13&sy=2010&ey=2012&scsm=1&ssd=1&sort=country&ds=.&br=1&c=112&s=NGDP%2CNGDPD%2CPPPGDP%2CPPPPC&grp=0&a= '\n",
      "          'IMF>Data and Statistics>World Economic Outlook Databases>By '\n",
      "          'Countrise>United Kingdom]</ref>',\n",
      " 'GDP統計年': '2012',\n",
      " 'GDP順位MER': '5',\n",
      " 'ccTLD': '.uk\\n.gb',\n",
      " '人口大きさ': '1 E7',\n",
      " '人口密度値': '246',\n",
      " '人口統計年': '2011',\n",
      " '位置画像': 'Location_UK_EU_Europe_001.svg',\n",
      " '元首等肩書': '女王',\n",
      " '公式国名': 'スコットランド・ゲール語\\nウェールズ語\\nアイルランド語\\nコーンウォール語\\nスコットランド語',\n",
      " '国章画像': '85px|イギリスの国章',\n",
      " '夏時間': '+1',\n",
      " '建国形態': '建国',\n",
      " '標語': 'フランス語',\n",
      " '略名': 'イギリス',\n",
      " '確立年月日1': '927年\\n843年',\n",
      " '確立年月日2': '1707年',\n",
      " '確立年月日3': '1801年',\n",
      " '確立年月日4': '1927年',\n",
      " '通貨コード': 'GBP',\n",
      " '面積値': '244,820',\n",
      " '面積順位': '76',\n",
      " '首相等肩書': '首相',\n",
      " '首都': 'ロンドン'}\n"
     ]
    }
   ],
   "source": [
    "for i in dict:\n",
    "    simple_inner_link=inner_link.findall(dict[i])\n",
    "    if simple_inner_link:\n",
    "        _str=\"\\n\".join(simple_inner_link)\n",
    "        dict[i]=re.sub(\"^[^\\|]+?\\|\",\"\",_str)\n",
    "pprint.pprint(dict)"
   ]
  },
  {
   "cell_type": "code",
   "execution_count": 105,
   "metadata": {},
   "outputs": [
    {
     "data": {
      "text/plain": [
       "'女王'"
      ]
     },
     "execution_count": 105,
     "metadata": {},
     "output_type": "execute_result"
    }
   ],
   "source": [
    "re.sub(\"^[^\\|]+?\\|\",\"\",\"イギリスの君主|女王\")"
   ]
  },
  {
   "cell_type": "code",
   "execution_count": 24,
   "metadata": {
    "collapsed": true
   },
   "outputs": [],
   "source": [
    "cat_all_re=re.compile(\"^=+?[^=]+?=+?$\")\n",
    "\n",
    "cat_only_first_level_re=re.compile(\"^==[^=]+?==$\")\n",
    "\n",
    "cat_only_second_level_re=re.compile(\"^===[^=]+?===$\")\n",
    "\n",
    "file_links_all=re.compile(\"^\\[\\[File:.+?\\]\\]$\")\n",
    "\n",
    "file_links_only=re.compile(\"^\\[\\[File:(.+?)\\|.+?\\]\\]$\")\n"
   ]
  },
  {
   "cell_type": "code",
   "execution_count": 25,
   "metadata": {
    "scrolled": true
   },
   "outputs": [
    {
     "name": "stdout",
     "output_type": "stream",
     "text": [
      "Battle of Waterloo 1815.PNG\n",
      "The British Empire.png\n",
      "Uk topo en.jpg\n",
      "BenNevis2005.jpg\n",
      "Elizabeth II greets NASA GSFC employees, May 8, 2007 edit.jpg\n",
      "Palace of Westminster, London - Feb 2007.jpg\n",
      "David Cameron and Barack Obama at the G20 Summit in Toronto.jpg\n",
      "Soldiers Trooping the Colour, 16th June 2007.jpg\n",
      "Scotland Parliament Holyrood.jpg\n",
      "London.bankofengland.arp.jpg\n",
      "City of London skyline from London City Hall - Oct 2008.jpg\n",
      "Oil platform in the North SeaPros.jpg\n",
      "Eurostar at St Pancras Jan 2008.jpg\n",
      "Heathrow T5.jpg\n",
      "Anglospeak.svg\n"
     ]
    }
   ],
   "source": [
    "for line in open(\"./UK.txt\",\"r\"):\n",
    "    match=file_links_only.match(line)\n",
    "    if match:\n",
    "        print(match.group(1))"
   ]
  },
  {
   "cell_type": "code",
   "execution_count": null,
   "metadata": {
    "collapsed": true
   },
   "outputs": [],
   "source": []
  }
 ],
 "metadata": {
  "kernelspec": {
   "display_name": "Python 3",
   "language": "python",
   "name": "python3"
  },
  "language_info": {
   "codemirror_mode": {
    "name": "ipython",
    "version": 3
   },
   "file_extension": ".py",
   "mimetype": "text/x-python",
   "name": "python",
   "nbconvert_exporter": "python",
   "pygments_lexer": "ipython3",
   "version": "3.5.0"
  }
 },
 "nbformat": 4,
 "nbformat_minor": 2
}
