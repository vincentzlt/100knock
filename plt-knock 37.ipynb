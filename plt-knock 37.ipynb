{
 "cells": [
  {
   "cell_type": "code",
   "execution_count": 85,
   "metadata": {},
   "outputs": [],
   "source": [
    "#!/usr/bin/python\n",
    "\n",
    "import sys, pprint, re,pickle,matplotlib,math\n",
    "from collections import defaultdict\n",
    "import matplotlib.pyplot as plt\n",
    "from IPython.core.interactiveshell import InteractiveShell\n",
    "InteractiveShell.ast_node_interactivity = \"all\"\n",
    "%matplotlib inline"
   ]
  },
  {
   "cell_type": "code",
   "execution_count": 3,
   "metadata": {
    "collapsed": true
   },
   "outputs": [],
   "source": [
    "def get_wordlist(f_name):\n",
    "    mecob_list = []\n",
    "\n",
    "    for line in open(f_name, \"r\", encoding=\"UTF-8\"):\n",
    "        word_pos_dict = {}\n",
    "        pos_ls = iter([\n",
    "            \"word\", \"品詞\", \"品詞細分類1\", \"品詞細分類2\", \"品詞細分類3\", \"活用型\", \"活用形\", \"原形\", \"読み\",\n",
    "            \"発音\"\n",
    "        ])\n",
    "        if not line.startswith(\"EOS\"):\n",
    "            word_, pos_ = line.replace(\"\\n\", \"\").split(\"\\t\")\n",
    "            pos_ = pos_.split(\",\")\n",
    "            len_pos = len(pos_)\n",
    "\n",
    "            word_pos_dict[next(pos_ls)] = word_\n",
    "\n",
    "            for i in pos_:\n",
    "                word_pos_dict[next(pos_ls)] = i\n",
    "            mecob_list.append(word_pos_dict)\n",
    "    return mecob_list"
   ]
  },
  {
   "cell_type": "code",
   "execution_count": 4,
   "metadata": {
    "collapsed": true
   },
   "outputs": [],
   "source": [
    "def get_freq(mecob_list):\n",
    "    freq_dict=defaultdict(lambda:0)\n",
    "    for w in mecob_list:\n",
    "        freq_dict[w[\"word\"]]+=1\n",
    "    return freq_dict"
   ]
  },
  {
   "cell_type": "code",
   "execution_count": 28,
   "metadata": {
    "collapsed": true
   },
   "outputs": [],
   "source": [
    "def print_graph(data):    # print freqency of a word\n",
    "    # data should be list of tuples, each tuple is a key-value pair\n",
    "    n_groups=len(data)\n",
    "\n",
    "    bar_hight=list(i[1] for i in data)\n",
    "    bar_note=list(i[0] for i in data)\n",
    "    \n",
    "    \n",
    "    plt.bar(list(range(n_groups)),list(bar_hight),tick_label=list(bar_note))\n",
    "    plt.show()"
   ]
  },
  {
   "cell_type": "code",
   "execution_count": 88,
   "metadata": {},
   "outputs": [],
   "source": [
    "def print_histogram(data,interval):   # print histrogram of Y:number of types X:freq range\n",
    "    # data should be list of tuples, each tuple is a key-value pair\n",
    "    n_data=len(data)\n",
    "    \n",
    "    n_freq_range=data[0][1]-data[-1][1]\n",
    "    n_bars=math.ceil(data[0][1]/interval)\n",
    "     \n",
    "    _freq_interval=list(range(0,n_freq_range+ interval,interval))\n",
    "\n",
    "    bar_freq=[]\n",
    "    \n",
    "    _zip_list=list(zip(_freq_interval[:-1],_freq_interval[1:]))\n",
    "    \n",
    "    for _itvl in _zip_list:\n",
    "        bar_freq.append(len([1 for d in data if d[1]>_itvl[0] and d[1]<_itvl[1]]))\n",
    "    \n",
    "    bar_tag=[str(t[0])+\" ~ \"+str(t[1]) for t in _zip_list]\n",
    "    plt.bar(range(n_bars),bar_freq,tick_label=bar_tag,align=\"center\")"
   ]
  },
  {
   "cell_type": "code",
   "execution_count": 95,
   "metadata": {
    "collapsed": true
   },
   "outputs": [],
   "source": [
    "def print_zipf(data):\n",
    "    print(len(data))\n",
    "    \n",
    "    \n",
    "    plt.bar(range(len(data)),[math.log2(t[1]) for t in data])"
   ]
  },
  {
   "cell_type": "code",
   "execution_count": 6,
   "metadata": {
    "collapsed": true
   },
   "outputs": [],
   "source": [
    "if __name__ == \"__main__\":\n",
    "    freq_dict=get_freq(get_wordlist(\"./neko.txt.mecab\"))\n",
    "    freq_dict=sorted(freq_dict.items(), key=lambda d:d[1], reverse = True) #actually this is a list of tuples\n",
    "    \n",
    "    "
   ]
  },
  {
   "cell_type": "code",
   "execution_count": 96,
   "metadata": {},
   "outputs": [
    {
     "data": {
      "text/plain": [
       "13584"
      ]
     },
     "execution_count": 96,
     "metadata": {},
     "output_type": "execute_result"
    },
    {
     "name": "stdout",
     "output_type": "stream",
     "text": [
      "13584\n"
     ]
    },
    {
     "name": "stderr",
     "output_type": "stream",
     "text": [
      "/Users/zhanglongtu/Envs/py3.5/lib/python3.5/site-packages/matplotlib/font_manager.py:1297: UserWarning: findfont: Font family ['sans-serif'] not found. Falling back to DejaVu Sans\n",
      "  (prop.get_family(), self.defaultFamily[fontext]))\n"
     ]
    },
    {
     "data": {
      "image/png": "[encoded data removed]",
      "text/plain": [
       "<matplotlib.figure.Figure at 0x10760c5c0>"
      ]
     },
     "metadata": {},
     "output_type": "display_data"
    }
   ],
   "source": [
    "    len(freq_dict)\n",
    "    print_zipf(freq_dict)"
   ]
  },
  {
   "cell_type": "code",
   "execution_count": null,
   "metadata": {
    "collapsed": true
   },
   "outputs": [],
   "source": []
  }
 ],
 "metadata": {
  "kernelspec": {
   "display_name": "Python 3",
   "language": "python",
   "name": "python3"
  },
  "language_info": {
   "codemirror_mode": {
    "name": "ipython",
    "version": 3
   },
   "file_extension": ".py",
   "mimetype": "text/x-python",
   "name": "python",
   "nbconvert_exporter": "python",
   "pygments_lexer": "ipython3",
   "version": "3.5.0"
  }
 },
 "nbformat": 4,
 "nbformat_minor": 2
}
