{
 "cells": [
  {
   "cell_type": "code",
   "execution_count": 2,
   "metadata": {},
   "outputs": [
    {
     "ename": "AttributeError",
     "evalue": "module 'matplotlib.pyplot' has no attribute 'font_manager'",
     "output_type": "error",
     "traceback": [
      "\u001b[0;31m---------------------------------------------------------------------------\u001b[0m",
      "\u001b[0;31mAttributeError\u001b[0m                            Traceback (most recent call last)",
      "\u001b[0;32m<ipython-input-2-b82c59989f47>\u001b[0m in \u001b[0;36m<module>\u001b[0;34m()\u001b[0m\n\u001b[1;32m     69\u001b[0m     \u001b[0mfreq_dict\u001b[0m\u001b[0;34m=\u001b[0m\u001b[0msorted\u001b[0m\u001b[0;34m(\u001b[0m\u001b[0mfreq_dict\u001b[0m\u001b[0;34m.\u001b[0m\u001b[0mitems\u001b[0m\u001b[0;34m(\u001b[0m\u001b[0;34m)\u001b[0m\u001b[0;34m,\u001b[0m \u001b[0mkey\u001b[0m\u001b[0;34m=\u001b[0m\u001b[0;32mlambda\u001b[0m \u001b[0md\u001b[0m\u001b[0;34m:\u001b[0m\u001b[0md\u001b[0m\u001b[0;34m[\u001b[0m\u001b[0;36m1\u001b[0m\u001b[0;34m]\u001b[0m\u001b[0;34m,\u001b[0m \u001b[0mreverse\u001b[0m \u001b[0;34m=\u001b[0m \u001b[0;32mTrue\u001b[0m\u001b[0;34m)\u001b[0m\u001b[0;34m\u001b[0m\u001b[0m\n\u001b[1;32m     70\u001b[0m \u001b[0;34m\u001b[0m\u001b[0m\n\u001b[0;32m---> 71\u001b[0;31m     \u001b[0mprint_graph\u001b[0m\u001b[0;34m(\u001b[0m\u001b[0mfreq_dict\u001b[0m\u001b[0;34m[\u001b[0m\u001b[0;34m:\u001b[0m\u001b[0;36m10\u001b[0m\u001b[0;34m]\u001b[0m\u001b[0;34m)\u001b[0m\u001b[0;34m\u001b[0m\u001b[0m\n\u001b[0m\u001b[1;32m     72\u001b[0m \u001b[0;34m\u001b[0m\u001b[0m\n\u001b[1;32m     73\u001b[0m \u001b[0;34m\u001b[0m\u001b[0m\n",
      "\u001b[0;32m<ipython-input-2-b82c59989f47>\u001b[0m in \u001b[0;36mprint_graph\u001b[0;34m(data)\u001b[0m\n\u001b[1;32m     56\u001b[0m     \u001b[0mfp\u001b[0m\u001b[0;34m=\u001b[0m\u001b[0mFontProperties\u001b[0m\u001b[0;34m(\u001b[0m\u001b[0mfname\u001b[0m\u001b[0;34m=\u001b[0m\u001b[0;34m\"/System/Library/Fonts/AquaKana.ttc\"\u001b[0m\u001b[0;34m)\u001b[0m\u001b[0;34m\u001b[0m\u001b[0m\n\u001b[1;32m     57\u001b[0m     \u001b[0mplt\u001b[0m\u001b[0;34m.\u001b[0m\u001b[0mbar\u001b[0m\u001b[0;34m(\u001b[0m\u001b[0;34m[\u001b[0m\u001b[0mi\u001b[0m\u001b[0;34m+\u001b[0m\u001b[0;36m1\u001b[0m \u001b[0;32mfor\u001b[0m \u001b[0mi\u001b[0m \u001b[0;32min\u001b[0m \u001b[0mrange\u001b[0m\u001b[0;34m(\u001b[0m\u001b[0mn_groups\u001b[0m\u001b[0;34m)\u001b[0m\u001b[0;34m]\u001b[0m\u001b[0;34m,\u001b[0m\u001b[0mbar_hight\u001b[0m\u001b[0;34m,\u001b[0m\u001b[0mtick_label\u001b[0m\u001b[0;34m=\u001b[0m\u001b[0mbar_note\u001b[0m\u001b[0;34m,\u001b[0m \u001b[0malign\u001b[0m\u001b[0;34m=\u001b[0m\u001b[0;34m\"center\"\u001b[0m\u001b[0;34m)\u001b[0m\u001b[0;34m\u001b[0m\u001b[0m\n\u001b[0;32m---> 58\u001b[0;31m     \u001b[0mplt\u001b[0m\u001b[0;34m.\u001b[0m\u001b[0mfont_manager\u001b[0m\u001b[0;34m(\u001b[0m\u001b[0mfp\u001b[0m\u001b[0;34m)\u001b[0m\u001b[0;34m\u001b[0m\u001b[0m\n\u001b[0m\u001b[1;32m     59\u001b[0m     \u001b[0mplt\u001b[0m\u001b[0;34m.\u001b[0m\u001b[0mshow\u001b[0m\u001b[0;34m(\u001b[0m\u001b[0;34m)\u001b[0m\u001b[0;34m\u001b[0m\u001b[0m\n\u001b[1;32m     60\u001b[0m \u001b[0;34m\u001b[0m\u001b[0m\n",
      "\u001b[0;31mAttributeError\u001b[0m: module 'matplotlib.pyplot' has no attribute 'font_manager'"
     ]
    }
   ],
   "source": [
    "\n",
    "# coding: utf-8\n",
    "\n",
    "# In[16]:\n",
    "\n",
    "#!/usr/bin/python\n",
    "\n",
    "import sys, pprint, re,pickle,matplotlib\n",
    "from collections import defaultdict\n",
    "import matplotlib.pyplot as plt\n",
    "from matplotlib.font_manager import FontProperties\n",
    "\n",
    "\n",
    "# In[3]:\n",
    "\n",
    "def get_wordlist(f_name):\n",
    "    mecob_list = []\n",
    "\n",
    "    for line in open(f_name, \"r\", encoding=\"UTF-8\"):\n",
    "        word_pos_dict = {}\n",
    "        pos_ls = iter([\n",
    "            \"word\", \"品詞\", \"品詞細分類1\", \"品詞細分類2\", \"品詞細分類3\", \"活用型\", \"活用形\", \"原形\", \"読み\",\n",
    "            \"発音\"\n",
    "        ])\n",
    "        if not line.startswith(\"EOS\"):\n",
    "            word_, pos_ = line.replace(\"\\n\", \"\").split(\"\\t\")\n",
    "            pos_ = pos_.split(\",\")\n",
    "            len_pos = len(pos_)\n",
    "\n",
    "            word_pos_dict[next(pos_ls)] = word_\n",
    "\n",
    "            for i in pos_:\n",
    "                word_pos_dict[next(pos_ls)] = i\n",
    "            mecob_list.append(word_pos_dict)\n",
    "    return mecob_list\n",
    "\n",
    "\n",
    "# In[4]:\n",
    "\n",
    "def get_freq(mecob_list):\n",
    "    freq_dict=defaultdict(lambda:0)\n",
    "    for w in mecob_list:\n",
    "        freq_dict[w[\"word\"]]+=1\n",
    "    return freq_dict\n",
    "\n",
    "\n",
    "# In[28]:\n",
    "\n",
    "def print_graph(data):\n",
    "    # data should be list of tuples, each tuple is a key-value pair\n",
    "    n_groups=len(data)\n",
    "\n",
    "    bar_hight=list(i[1] for i in data)\n",
    "    bar_note=list(i[0] for i in data)\n",
    "    \n",
    "    fp=FontProperties(fname=\"/System/Library/Fonts/AquaKana.ttc\")\n",
    "    plt.bar([i+1 for i in range(n_groups)],bar_hight,tick_label=bar_note, align=\"center\")\n",
    "    plt.show()\n",
    "    \n",
    "\n",
    "\n",
    "# In[6]:\n",
    "\n",
    "# In[22]:\n",
    "\n",
    "if __name__ == \"__main__\":\n",
    "    freq_dict=get_freq(get_wordlist(\"./neko.txt.mecab\"))\n",
    "    freq_dict=sorted(freq_dict.items(), key=lambda d:d[1], reverse = True)\n",
    "    \n",
    "    print_graph(freq_dict[:10])\n",
    "\n",
    "\n",
    "# In[ ]:\n",
    "\n",
    "\n",
    "\n"
   ]
  },
  {
   "cell_type": "code",
   "execution_count": null,
   "metadata": {
    "collapsed": true
   },
   "outputs": [],
   "source": []
  }
 ],
 "metadata": {
  "kernelspec": {
   "display_name": "Python 3",
   "language": "python",
   "name": "python3"
  },
  "language_info": {
   "codemirror_mode": {
    "name": "ipython",
    "version": 3
   },
   "file_extension": ".py",
   "mimetype": "text/x-python",
   "name": "python",
   "nbconvert_exporter": "python",
   "pygments_lexer": "ipython3",
   "version": "3.5.0"
  }
 },
 "nbformat": 4,
 "nbformat_minor": 2
}
