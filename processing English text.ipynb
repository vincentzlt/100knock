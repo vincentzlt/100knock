{
 "cells": [
  {
   "cell_type": "code",
   "execution_count": 32,
   "metadata": {},
   "outputs": [],
   "source": [
    "import sys,re,pdir\n",
    "from stemming.porter2 import stem\n",
    "from lxml import etree"
   ]
  },
  {
   "cell_type": "code",
   "execution_count": 79,
   "metadata": {},
   "outputs": [],
   "source": [
    "def coref_analysis(f_name):\n",
    "    tree=etree.parse(f_name)\n",
    "    root=tree.getroot()\n",
    "    print(root.tag)\n",
    "    sentences=root.xpath('//sentence')\n",
    "    for sentence in sentences:\n",
    "        sentence_list=[]\n",
    "        for token in sentence.xpath('.//token'):\n",
    "            sentence_list.append(token[0].text)\n",
    "        print(sentence.attrib[\"id\"],\" \".join(sentence_list))\n",
    "        print()"
   ]
  },
  {
   "cell_type": "code",
   "execution_count": 80,
   "metadata": {
    "scrolled": true
   },
   "outputs": [
    {
     "name": "stdout",
     "output_type": "stream",
     "text": [
      "root\n",
      "1 Natural language processing From Wikipedia , the free encyclopedia Natural language processing -LRB- NLP -RRB- is a field of computer science , artificial intelligence , and linguistics concerned with the interactions between computers and human -LRB- natural -RRB- languages .\n",
      "\n",
      "2 As such , NLP is related to the area of humani-computer interaction .\n",
      "\n",
      "3 Many challenges in NLP involve natural language understanding , that is , enabling computers to derive meaning from human or natural language input , and others involve natural language generation .\n",
      "\n",
      "4 History The history of NLP generally starts in the 1950s , although work can be found from earlier periods .\n",
      "\n",
      "5 In 1950 , Alan Turing published an article titled `` Computing Machinery and Intelligence '' which proposed what is now called the Turing test as a criterion of intelligence .\n",
      "\n",
      "6 The Georgetown experiment in 1954 involved fully automatic translation of more than sixty Russian sentences into English .\n",
      "\n",
      "7 The authors claimed that within three or five years , machine translation would be a solved problem .\n",
      "\n",
      "8 However , real progress was much slower , and after the ALPAC report in 1966 , which found that ten year long research had failed to fulfill the expectations , funding for machine translation was dramatically reduced .\n",
      "\n",
      "9 Little further research in machine translation was conducted until the late 1980s , when the first statistical machine translation systems were developed .\n",
      "\n",
      "10 Some notably successful NLP systems developed in the 1960s were SHRDLU , a natural language system working in restricted `` blocks worlds '' with restricted vocabularies , and ELIZA , a simulation of a Rogerian psychotherapist , written by Joseph Weizenbaum between 1964 to 1966 .\n",
      "\n",
      "11 Using almost no information about human thought or emotion , ELIZA sometimes provided a startlingly human-like interaction .\n",
      "\n",
      "12 When the `` patient '' exceeded the very small knowledge base , ELIZA might provide a generic response , for example , responding to `` My head hurts '' with `` Why do you say your head hurts ? ''\n",
      "\n",
      "13 .\n",
      "\n",
      "14 During the 1970s many programmers began to write ` conceptual ontologies ' , which structured real-world information into computer-understandable data .\n",
      "\n",
      "15 Examples are MARGIE -LRB- Schank , 1975 -RRB- , SAM -LRB- Cullingford , 1978 -RRB- , PAM -LRB- Wilensky , 1978 -RRB- , TaleSpin -LRB- Meehan , 1976 -RRB- , QUALM -LRB- Lehnert , 1977 -RRB- , Politics -LRB- Carbonell , 1979 -RRB- , and Plot Units -LRB- Lehnert 1981 -RRB- .\n",
      "\n",
      "16 During this time , many chatterbots were written including PARRY , Racter , and Jabberwacky .\n",
      "\n",
      "17 Up to the 1980s , most NLP systems were based on complex sets of hand-written rules .\n",
      "\n",
      "18 Starting in the late 1980s , however , there was a revolution in NLP with the introduction of machine learning algorithms for language processing .\n",
      "\n",
      "19 This was due to both the steady increase in computational power resulting from Moore 's Law and the gradual lessening of the dominance of Chomskyan theories of linguistics -LRB- e.g. transformational grammar -RRB- , whose theoretical underpinnings discouraged the sort of corpus linguistics that underlies the machine-learning approach to language processing .\n",
      "\n",
      "20 Some of the earliest-used machine learning algorithms , such as decision trees , produced systems of hard if-then rules similar to existing hand-written rules .\n",
      "\n",
      "21 However , Part of speech tagging introduced the use of Hidden Markov Models to NLP , and increasingly , research has focused on statistical models , which make soft , probabilistic decisions based on attaching real-valued weights to the features making up the input data .\n",
      "\n",
      "22 The cache language models upon which many speech recognition systems now rely are examples of such statistical models .\n",
      "\n",
      "23 Such models are generally more robust when given unfamiliar input , especially input that contains errors -LRB- as is very common for real-world data -RRB- , and produce more reliable results when integrated into a larger system comprising multiple subtasks .\n",
      "\n",
      "24 Many of the notable early successes occurred in the field of machine translation , due especially to work at IBM Research , where successively more complicated statistical models were developed .\n",
      "\n",
      "25 These systems were able to take advantage of existing multilingual textual corpora that had been produced by the Parliament of Canada and the European Union as a result of laws calling for the translation of all governmental proceedings into all official languages of the corresponding systems of government .\n",
      "\n",
      "26 However , most other systems depended on corpora specifically developed for the tasks implemented by these systems , which was -LRB- and often continues to be -RRB- a major limitation in the success of these systems .\n",
      "\n",
      "27 As a result , a great deal of research has gone into methods of more effectively learning from limited amounts of data .\n",
      "\n",
      "28 Recent research has increasingly focused on unsupervised and semi-supervised learning algorithms .\n",
      "\n",
      "29 Such algorithms are able to learn from data that has not been hand-annotated with the desired answers , or using a combination of annotated and non-annotated data .\n",
      "\n",
      "30 Generally , this task is much more difficult than supervised learning , and typically produces less accurate results for a given amount of input data .\n",
      "\n",
      "31 However , there is an enormous amount of non-annotated data available -LRB- including , among other things , the entire content of the World Wide Web -RRB- , which can often make up for the inferior results .\n",
      "\n",
      "32 NLP using machine learning Modern NLP algorithms are based on machine learning , especially statistical machine learning .\n",
      "\n",
      "33 The paradigm of machine learning is different from that of most prior attempts at language processing .\n",
      "\n",
      "34 Prior implementations of language-processing tasks typically involved the direct hand coding of large sets of rules .\n",
      "\n",
      "35 The machine-learning paradigm calls instead for using general learning algorithms - often , although not always , grounded in statistical inference - to automatically learn such rules through the analysis of large corpora of typical real-world examples .\n",
      "\n",
      "36 A corpus -LRB- plural , `` corpora '' -RRB- is a set of documents -LRB- or sometimes , individual sentences -RRB- that have been hand-annotated with the correct values to be learned .\n",
      "\n",
      "37 Many different classes of machine learning algorithms have been applied to NLP tasks .\n",
      "\n",
      "38 These algorithms take as input a large set of `` features '' that are generated from the input data .\n",
      "\n",
      "39 Some of the earliest-used algorithms , such as decision trees , produced systems of hard if-then rules similar to the systems of hand-written rules that were then common .\n",
      "\n",
      "40 Increasingly , however , research has focused on statistical models , which make soft , probabilistic decisions based on attaching real-valued weights to each input feature .\n",
      "\n",
      "41 Such models have the advantage that they can express the relative certainty of many different possible answers rather than only one , producing more reliable results when such a model is included as a component of a larger system .\n",
      "\n",
      "42 Systems based on machine-learning algorithms have many advantages over hand-produced rules : The learning procedures used during machine learning automatically focus on the most common cases , whereas when writing rules by hand it is often not obvious at all where the effort should be directed .\n",
      "\n",
      "43 Automatic learning procedures can make use of statistical inference algorithms to produce models that are robust to unfamiliar input -LRB- e.g. containing words or structures that have not been seen before -RRB- and to erroneous input -LRB- e.g. with misspelled words or words accidentally omitted -RRB- .\n",
      "\n",
      "44 Generally , handling such input gracefully with hand-written rules -- or more generally , creating systems of hand-written rules that make soft decisions -- extremely difficult , error-prone and time-consuming .\n",
      "\n",
      "45 Systems based on automatically learning the rules can be made more accurate simply by supplying more input data .\n",
      "\n",
      "46 However , systems based on hand-written rules can only be made more accurate by increasing the complexity of the rules , which is a much more difficult task .\n",
      "\n",
      "47 In particular , there is a limit to the complexity of systems based on hand-crafted rules , beyond which the systems become more and more unmanageable .\n",
      "\n",
      "48 However , creating more data to input to machine-learning systems simply requires a corresponding increase in the number of man-hours worked , generally without significant increases in the complexity of the annotation process .\n",
      "\n",
      "49 The subfield of NLP devoted to learning approaches is known as Natural Language Learning -LRB- NLL -RRB- and its conference CoNLL and peak body SIGNLL are sponsored by ACL , recognizing also their links with Computational Linguistics and Language Acquisition .\n",
      "\n",
      "50 When the aims of computational language learning research is to understand more about human language acquisition , or psycholinguistics , NLL overlaps into the related field of Computational Psycholinguistics .\n",
      "\n"
     ]
    },
    {
     "ename": "KeyError",
     "evalue": "'id'",
     "output_type": "error",
     "traceback": [
      "\u001b[0;31m---------------------------------------------------------------------------\u001b[0m",
      "\u001b[0;31mKeyError\u001b[0m                                  Traceback (most recent call last)",
      "\u001b[0;32m<ipython-input-80-bcc2406c720c>\u001b[0m in \u001b[0;36m<module>\u001b[0;34m()\u001b[0m\n\u001b[0;32m----> 1\u001b[0;31m \u001b[0mcoref_analysis\u001b[0m\u001b[0;34m(\u001b[0m\u001b[0;34m\"nlp.txt.xml\"\u001b[0m\u001b[0;34m)\u001b[0m\u001b[0;34m\u001b[0m\u001b[0m\n\u001b[0m",
      "\u001b[0;32m<ipython-input-79-69c2427e5413>\u001b[0m in \u001b[0;36mcoref_analysis\u001b[0;34m(f_name)\u001b[0m\n\u001b[1;32m      8\u001b[0m         \u001b[0;32mfor\u001b[0m \u001b[0mtoken\u001b[0m \u001b[0;32min\u001b[0m \u001b[0msentence\u001b[0m\u001b[0;34m.\u001b[0m\u001b[0mxpath\u001b[0m\u001b[0;34m(\u001b[0m\u001b[0;34m'.//token'\u001b[0m\u001b[0;34m)\u001b[0m\u001b[0;34m:\u001b[0m\u001b[0;34m\u001b[0m\u001b[0m\n\u001b[1;32m      9\u001b[0m             \u001b[0msentence_list\u001b[0m\u001b[0;34m.\u001b[0m\u001b[0mappend\u001b[0m\u001b[0;34m(\u001b[0m\u001b[0mtoken\u001b[0m\u001b[0;34m[\u001b[0m\u001b[0;36m0\u001b[0m\u001b[0;34m]\u001b[0m\u001b[0;34m.\u001b[0m\u001b[0mtext\u001b[0m\u001b[0;34m)\u001b[0m\u001b[0;34m\u001b[0m\u001b[0m\n\u001b[0;32m---> 10\u001b[0;31m         \u001b[0mprint\u001b[0m\u001b[0;34m(\u001b[0m\u001b[0msentence\u001b[0m\u001b[0;34m.\u001b[0m\u001b[0mattrib\u001b[0m\u001b[0;34m[\u001b[0m\u001b[0;34m\"id\"\u001b[0m\u001b[0;34m]\u001b[0m\u001b[0;34m,\u001b[0m\u001b[0;34m\" \"\u001b[0m\u001b[0;34m.\u001b[0m\u001b[0mjoin\u001b[0m\u001b[0;34m(\u001b[0m\u001b[0msentence_list\u001b[0m\u001b[0;34m)\u001b[0m\u001b[0;34m)\u001b[0m\u001b[0;34m\u001b[0m\u001b[0m\n\u001b[0m\u001b[1;32m     11\u001b[0m         \u001b[0mprint\u001b[0m\u001b[0;34m(\u001b[0m\u001b[0;34m)\u001b[0m\u001b[0;34m\u001b[0m\u001b[0m\n",
      "\u001b[0;32msrc/lxml/lxml.etree.pyx\u001b[0m in \u001b[0;36mlxml.etree._Attrib.__getitem__ (src/lxml/lxml.etree.c:70679)\u001b[0;34m()\u001b[0m\n",
      "\u001b[0;31mKeyError\u001b[0m: 'id'"
     ]
    }
   ],
   "source": [
    "coref_analysis(\"nlp.txt.xml\")"
   ]
  },
  {
   "cell_type": "code",
   "execution_count": null,
   "metadata": {
    "collapsed": true
   },
   "outputs": [],
   "source": []
  }
 ],
 "metadata": {
  "kernelspec": {
   "display_name": "Python 3",
   "language": "python",
   "name": "python3"
  },
  "language_info": {
   "codemirror_mode": {
    "name": "ipython",
    "version": 3
   },
   "file_extension": ".py",
   "mimetype": "text/x-python",
   "name": "python",
   "nbconvert_exporter": "python",
   "pygments_lexer": "ipython3",
   "version": "3.5.0"
  }
 },
 "nbformat": 4,
 "nbformat_minor": 2
}
