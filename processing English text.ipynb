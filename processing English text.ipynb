{
 "cells": [
  {
   "cell_type": "code",
   "execution_count": 1,
   "metadata": {
    "collapsed": true
   },
   "outputs": [],
   "source": [
    "import sys,re,pdir\n",
    "from stemming.porter2 import stem\n",
    "from lxml import etree"
   ]
  },
  {
   "cell_type": "code",
   "execution_count": 34,
   "metadata": {
    "collapsed": true
   },
   "outputs": [],
   "source": [
    "def coref_analysis(f_name):\n",
    "    tree=etree.parse(f_name)\n",
    "    root=tree.getroot()\n",
    "    tokens=root.xpath(\"//token\")\n",
    "    for w in tokens:\n",
    "        for w_ in w:\n",
    "            if w_.tag==\"word\":\n",
    "                output=w_.text\n",
    "            if w_.tag==\"POS\":\n",
    "                if w_.text==\"NNP\":\n",
    "                    print(output)\n",
    "    \n",
    "                "
   ]
  },
  {
   "cell_type": "code",
   "execution_count": 35,
   "metadata": {
    "collapsed": false,
    "scrolled": true
   },
   "outputs": [
    {
     "name": "stdout",
     "output_type": "stream",
     "text": [
      "Wikipedia\n",
      "NLP\n",
      "Alan\n",
      "Turing\n",
      "Computing\n",
      "Machinery\n",
      "Intelligence\n",
      "Georgetown\n",
      "English\n",
      "ALPAC\n",
      "SHRDLU\n",
      "ELIZA\n",
      "Joseph\n",
      "Weizenbaum\n",
      "ELIZA\n",
      "MARGIE\n",
      "Schank\n",
      "SAM\n",
      "Cullingford\n",
      "Wilensky\n",
      "TaleSpin\n",
      "Meehan\n",
      "Lehnert\n",
      "Carbonell\n",
      "Lehnert\n",
      "PARRY\n",
      "Racter\n",
      "Jabberwacky\n",
      "Moore\n",
      "Chomskyan\n",
      "Hidden\n",
      "Markov\n",
      "NLP\n",
      "IBM\n",
      "Research\n",
      "Parliament\n",
      "Canada\n",
      "European\n",
      "Union\n",
      "World\n",
      "Modern\n",
      "NLP\n",
      "Automatic\n",
      "NLP\n",
      "Learning\n",
      "NLL\n",
      "SIGNLL\n",
      "Language\n",
      "Acquisition\n",
      "Computational\n"
     ]
    }
   ],
   "source": [
    "named_entity_extraction(\"nlp.txt.xml\")"
   ]
  }
 ],
 "metadata": {
  "kernelspec": {
   "display_name": "Python 3",
   "language": "python",
   "name": "python3"
  },
  "language_info": {
   "codemirror_mode": {
    "name": "ipython",
    "version": 3
   },
   "file_extension": ".py",
   "mimetype": "text/x-python",
   "name": "python",
   "nbconvert_exporter": "python",
   "pygments_lexer": "ipython3",
   "version": "3.5.3"
  }
 },
 "nbformat": 4,
 "nbformat_minor": 2
}
